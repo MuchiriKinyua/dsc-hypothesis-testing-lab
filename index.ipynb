<<<<<<< HEAD
{"cells": [{"cell_type": "markdown", "metadata": {}, "source": ["# Hypothesis Testing - Cumulative Lab\n", "\n", "## Introduction\n", "\n", "In this cumulative lab, you will use pandas to clean up a dataset and perform some EDA, then perform statistical tests and interpret their results in order to answer some business questions.\n", "\n", "## Objectives\n", "\n", "You will be able to:\n", "\n", "* Practice using a data dictionary\n", "* Practice using pandas to prepare data for statistical analysis\n", "* Practice identifying an appropriate statistical test for a given question\n", "* Practice defining the null and alternative hypotheses\n", "* Practice executing statistical tests and interpreting their results"]}, {"cell_type": "markdown", "metadata": {}, "source": ["## Your Task: Analyzing Health Trends\n", "\n", "![tissues and tea mug](images/sick_day.jpg)\n", "\n", "Photo by <a href=\"https://unsplash.com/@kellysikkema?utm_source=unsplash&utm_medium=referral&utm_content=creditCopyText\">Kelly Sikkema</a> on <a href=\"/?utm_source=unsplash&utm_medium=referral&utm_content=creditCopyText\">Unsplash</a>"]}, {"cell_type": "markdown", "metadata": {}, "source": ["### Business Understanding\n", "\n", "Flatiron Health Insurance (FHI) is a growing private healthcare insurance provider founded on the premise that using data and analytics can improve the health insurance industry by providing better care and offerings to its patients. Every year, the Center for Disease Control (CDC) conducts surveys to understand the latest demographic, health, and fitness trends. You have been tasked with analyzing the recently published results of the 2017-2018 survey and providing your recommendations back to the Chief Analytics Officer and Chief Marketing Officer. You have been assigned the task of taking a first look at the data and beginning to answer several key questions:\n", "\t\t\t\t\t\t\t\t\t\t\t \t\t\t\t\t\t\t\t\n", "1. How does health status, represented by average number of days with bad physical health in the past month (`PHYSHLTH`), differ by state?\t\t\t\t\t \t\t\t\t\t\t\t\t\n", "2. Digging deeper into the data, what are some factors that impact health (demographics, behaviors, etc.)?\t\n", "\n", "### Data Understanding\n", "\n", "To get you started, the IT department formatted the data set into a tab delimited text file for only NY, NJ, and CT (FHI\u2019s primary markets) called `case_study.csv`.\n", "\n", "There is also a PDF data dictionary called `data_dictionary.pdf`, which explains the meanings of the features and codes contained in this dataset.\n", "\n", "Both files are located in the `data/` directory of this repository.\n", "\n", "Prior to each statistical test, you will need to perform some data preparation, which could include:\n", "\n", "* Filtering out rows with irrelevant values\n", "* Transforming data from codes into human-readable values\n", "* Binning data to transform it from numeric to categorical\n", "* Creating new columns based on queries of the values in other columns\n", "\n", "For steps 2-5, you will need to select and execute an appropriate statistical test. Recall these tests we have learned so far:\n", "\n", "1. [Chi-squared test](https://docs.scipy.org/doc/scipy/reference/generated/scipy.stats.chi2_contingency.html): used for comparing a categorical feature against a categorical feature, to determine whether they are independent\n", "2. [t-test](https://docs.scipy.org/doc/scipy/reference/generated/scipy.stats.ttest_ind.html): used for comparing two categories of a numeric feature, to determine whether their means are the same across categories\n", "3. [ANOVA](https://www.statsmodels.org/stable/generated/statsmodels.stats.anova.anova_lm.html#statsmodels.stats.anova.anova_lm): used for comparing more than two categories of a numeric feature, to determine whether their means are the same across categories"]}, {"cell_type": "markdown", "metadata": {}, "source": ["### Requirements\n", "\n", "#### 1. Prepare `PHYSHLTH` Data for Analysis\n", "\n", "Using the data dictionary, ensure that you understand the meaning of the `PHYSHLTH` column. Then clean the data so that only valid records of `PHYSHLTH` remain.\n", "\n", "#### 2. Describe the Distribution of Health Status by State\n", "\n", "Does health status (`PHYSHLTH`) differ by state (`STATE_`)? If so, by how much, and is it statistically significant?\n", "\n", "#### 3. Describe the Relationship between Health Status and Home Ownership Status\n", "\n", "Does health status (`PHYSHLTH`) differ between home owners and renters (`RENTHOM1`)? If so, by how much, and is it statistically significant?\n", "\n", "#### 4. Describe the Relationship between Chronic Sickness and Nicotine Use\n", "\n", "Does chronic sickness (`PHYSHLTH >= 15`) differ based on nicotine use (various columns)? If so, by how much, and is it statistically significant?\n", "\n", "#### 5. Choose Your Own Question\n", "\n", "Thinking about the business case, what is another question that might be useful to answer? Perform all analysis steps to answer this question."]}, {"cell_type": "markdown", "metadata": {}, "source": ["## 1. Prepare `PHYSHLTH` Data for Analysis\n", "\n", "In the cells below, we include the relevant imports and load the data into a dataframe called `df`:"]}, {"cell_type": "code", "execution_count": null, "metadata": {}, "outputs": [], "source": ["# Run this cell without changes\n", "import pandas as pd\n", "import matplotlib.pyplot as plt\n", "import numpy as np\n", "%matplotlib inline"]}, {"cell_type": "code", "execution_count": null, "metadata": {}, "outputs": [], "source": ["# Run this cell without changes\n", "df = pd.read_csv(\"data/case_study.csv\", index_col=0, low_memory=False)\n", "df"]}, {"cell_type": "markdown", "metadata": {}, "source": ["Our main column of interest is called `PHYSHLTH`. We display summary statistics and plot a distribution below:"]}, {"cell_type": "code", "execution_count": null, "metadata": {}, "outputs": [], "source": ["# Run this cell without changes\n", "df['PHYSHLTH'].describe()"]}, {"cell_type": "code", "execution_count": null, "metadata": {}, "outputs": [], "source": ["# Run this cell without changes\n", "fig, ax = plt.subplots()\n", "ax.hist(df[\"PHYSHLTH\"], bins=\"auto\")\n", "ax.set_xlabel(\"PHYSHLTH\")\n", "ax.set_ylabel(\"Count\")\n", "ax.set_title(\"Distribution of PHYSHLTH in Raw Data\");"]}, {"cell_type": "markdown", "metadata": {}, "source": ["This feature is supposed to represent the number of days with bad physical health out of the past 30 days. Do you see anything wrong with what is displayed above? Explain."]}, {"cell_type": "code", "execution_count": null, "metadata": {}, "outputs": [], "source": ["# Replace None with appropriate text\n", "\"\"\"\n", "None\n", "\"\"\""]}, {"cell_type": "markdown", "metadata": {}, "source": ["Look in the data dictionary, page 17, to understand what is happening with these values. Then edit the cell below so:\n", "\n", "* The records where the `PHYSHLTH` value label is `None` are converted to 0\n", "* The records where the `PHYSHLTH` value label is `Number of days` are kept as-is\n", "* All other records are dropped (i.e. records with `Don't know/Not sure`, `Refused`, and `Not asked or Missing` value labels for `PHYSHLTH` are dropped)"]}, {"cell_type": "code", "execution_count": null, "metadata": {}, "outputs": [], "source": ["# Your code here"]}, {"cell_type": "markdown", "metadata": {}, "source": ["Run the code below to ensure you have the correct, cleaned dataframe:"]}, {"cell_type": "code", "execution_count": null, "metadata": {}, "outputs": [], "source": ["# Run this cell without changes\n", "\n", "# We should have fewer rows, the same number of columns\n", "assert df.shape == (33747, 358)\n", "\n", "# The maximum value in this column should now be 30\n", "assert df[\"PHYSHLTH\"].max() == 30.0"]}, {"cell_type": "markdown", "metadata": {}, "source": ["Now we can look at the same descriptive information on our cleaned data:"]}, {"cell_type": "code", "execution_count": null, "metadata": {}, "outputs": [], "source": ["# Run this cell without changes\n", "df['PHYSHLTH'].describe()"]}, {"cell_type": "code", "execution_count": null, "metadata": {}, "outputs": [], "source": ["# Run this cell without changes\n", "fig, ax = plt.subplots()\n", "ax.hist(df[\"PHYSHLTH\"])\n", "ax.set_xlabel(\"PHYSHLTH\")\n", "ax.set_ylabel(\"Count\")\n", "ax.set_title(\"Distribution of PHYSHLTH in Cleaned Data\");"]}, {"cell_type": "markdown", "metadata": {}, "source": ["That looks a lot more reasonable. Let's move on to the next step."]}, {"cell_type": "markdown", "metadata": {}, "source": ["## 2. Describe the Distribution of Health Status by State\n", "\n", "As mentioned previously, this dataset only includes data from three states."]}, {"cell_type": "code", "execution_count": null, "metadata": {}, "outputs": [], "source": ["# Run this cell without changes\n", "df[\"_STATE\"].value_counts()"]}, {"cell_type": "markdown", "metadata": {}, "source": ["Look in the data dictionary, pages 2-3, to determine which states map onto which codes. Then replace the numbers with strings representing the state names."]}, {"cell_type": "code", "execution_count": null, "metadata": {}, "outputs": [], "source": ["# Your code here"]}, {"cell_type": "markdown", "metadata": {}, "source": ["Below, we check the values:"]}, {"cell_type": "code", "execution_count": null, "metadata": {}, "outputs": [], "source": ["# Run this cell without changes\n", "\n", "# Shape should be the same\n", "assert df.shape == (33747, 358)\n", "\n", "# Values in state column should be changed\n", "assert sorted(list(df[\"_STATE\"].value_counts().index)) == ['Connecticut', 'New Jersey', 'New York']"]}, {"cell_type": "code", "execution_count": null, "metadata": {}, "outputs": [], "source": ["# Run this cell without changes\n", "\n", "ny = df.loc[df[\"_STATE\"] == \"New York\", \"PHYSHLTH\"]\n", "nj = df.loc[df[\"_STATE\"] == \"New Jersey\", \"PHYSHLTH\"]\n", "ct = df.loc[df[\"_STATE\"] == \"Connecticut\", \"PHYSHLTH\"]\n", "\n", "fig, ax = plt.subplots(figsize=(15, 6))\n", "\n", "ax.hist(\n", "    x=[ny, nj, ct],\n", "    label=[\"New York\", \"New Jersey\", \"Connecticut\"],\n", "    bins=range(32),\n", "    align=\"left\"\n", ")\n", "\n", "ax.set_xlabel(\"PHYSHLTH\")\n", "ax.set_ylabel(\"Count\")\n", "ax.set_title(\"Distribution of PHYSHLTH by State\")\n", "\n", "ax.legend(title=\"State\");"]}, {"cell_type": "markdown", "metadata": {}, "source": ["Looking at the plot above, does the distribution seem to differ by state?\n", "\n", "(Just answer based on a visual inspection; we will do the statistical assessment next.)"]}, {"cell_type": "code", "execution_count": null, "metadata": {}, "outputs": [], "source": ["# Replace None with appropriate text\n", "\"\"\"\n", "None\n", "\"\"\""]}, {"cell_type": "markdown", "metadata": {}, "source": ["For the statistical test, we will be comparing the *means* of `PHYSHLTH` across states, as a representation of the overall distribution. In other words, when operationalizing the question **does `PHYSHLTH` differ by state?** we want to answer that in terms of the mean `PHYSHLTH`.\n", "\n", "Let's look at those means:"]}, {"cell_type": "code", "execution_count": null, "metadata": {}, "outputs": [], "source": ["# Run this cell without changes\n", "df.groupby(\"_STATE\")[\"PHYSHLTH\"].mean()"]}, {"cell_type": "markdown", "metadata": {}, "source": ["You likely noted that the overall distribution looked about the same, but these means are different. We have a range from Connecticut with about 3.7 days of bad health to New Jersey with about 4.4 days. But is that difference statistically significant?"]}, {"cell_type": "markdown", "metadata": {}, "source": ["Identify which of the statistical tests you have learned is the most appropriate for this question, and why. Make sure you mention what kinds of variables are being compared (numeric and categorical), and how many categories there are."]}, {"cell_type": "code", "execution_count": null, "metadata": {}, "outputs": [], "source": ["# Replace None with appropriate text\n", "\"\"\"\n", "None\n", "\"\"\""]}, {"cell_type": "markdown", "metadata": {}, "source": ["Now, identify the null and alternative hypotheses:"]}, {"cell_type": "code", "execution_count": null, "metadata": {}, "outputs": [], "source": ["# Replace None with appropriate text\n", "\"\"\"\n", "None\n", "\"\"\""]}, {"cell_type": "markdown", "metadata": {}, "source": ["In the cell below, we set up and execute the statistical test for you. If this doesn't match your previous answer about which test to perform, look at the solution branch to understand why this is the appropriate test."]}, {"cell_type": "code", "execution_count": null, "metadata": {}, "outputs": [], "source": ["# Run this cell without changes\n", "import statsmodels.api as sm\n", "from statsmodels.formula.api import ols\n", "\n", "formula = 'PHYSHLTH ~ C(_STATE)'\n", "lm = ols(formula, df).fit()\n", "sm.stats.anova_lm(lm)"]}, {"cell_type": "markdown", "metadata": {}, "source": ["Interpret the results of this statistical test below. What is the calculated p-value? Were we able to reject the null hypothesis at an alpha of 0.05? What does this say about how `PHYSHLTH` varies by state? What recommendations would you make to the business?"]}, {"cell_type": "code", "execution_count": null, "metadata": {}, "outputs": [], "source": ["# Replace None with appropriate text\n", "\"\"\"\n", "None\n", "\"\"\""]}, {"cell_type": "markdown", "metadata": {}, "source": ["With that section wrapped up, let's move on to the next step."]}, {"cell_type": "markdown", "metadata": {}, "source": ["## 3. Describe the Relationship between Health Status and Home Ownership Status\n", "\n", "This time, we want to categorize respondents by demographic information: specifically, we'll look at whether or not they own their home.\n", "\n", "Once again, this will require some data preparation. The variable of interest is contained in the `RENTHOM1` column. Currently the values look like this:"]}, {"cell_type": "code", "execution_count": null, "metadata": {}, "outputs": [], "source": ["# Run this cell without changes\n", "df[\"RENTHOM1\"].value_counts()"]}, {"cell_type": "markdown", "metadata": {}, "source": ["In the cell below, modify `df` so that we have dropped all records where the `RENTHOM1` value label is neither `Own` nor `Rent`, and we have replaced the numeric codes with `Own` and `Rent` respectively. You can find more information about codes on page 33 of the data dictionary."]}, {"cell_type": "code", "execution_count": null, "metadata": {}, "outputs": [], "source": ["# Your code here"]}, {"cell_type": "code", "execution_count": null, "metadata": {}, "outputs": [], "source": ["# Run this cell without changes\n", "df[\"RENTHOM1\"].value_counts()"]}, {"cell_type": "markdown", "metadata": {}, "source": ["Below, we check that this was done correctly:"]}, {"cell_type": "code", "execution_count": null, "metadata": {}, "outputs": [], "source": ["# Run this cell without changes\n", "\n", "# Number of rows should be smaller again\n", "assert df.shape == (31934, 358)\n", "\n", "# Only two values should be present in this column\n", "assert sorted(list(df[\"RENTHOM1\"].value_counts().index)) == ['Own', 'Rent']"]}, {"cell_type": "markdown", "metadata": {}, "source": ["Now, similar to the previous step, create a plot that shows the distribution of `PHYSHLTH` for those who own vs. rent their homes, including appropriate axis labels and legend. Because there is more of an imbalance of categories this time (more than twice as many owners as renters, compared to nearly-even numbers from New York, New Jersey, and Connecticut), make sure you add the argument `density=True`, so that the y-axis shows the density (proportion) rather than the count."]}, {"cell_type": "code", "execution_count": null, "metadata": {}, "outputs": [], "source": ["# Your code here"]}, {"cell_type": "markdown", "metadata": {}, "source": ["Then run this code to find the averages:"]}, {"cell_type": "code", "execution_count": null, "metadata": {}, "outputs": [], "source": ["# Run this cell without changes\n", "df.groupby(\"RENTHOM1\")[\"PHYSHLTH\"].mean()"]}, {"cell_type": "markdown", "metadata": {}, "source": ["Now, interpret the plot and averages. Does it seem like there a difference in the number of unhealthy days between those who rent their homes and those who own their homes? How does this compare to the distributions by state?"]}, {"cell_type": "code", "execution_count": null, "metadata": {}, "outputs": [], "source": ["# Replace None with appropriate text\n", "\"\"\"\n", "None\n", "\"\"\""]}, {"cell_type": "markdown", "metadata": {}, "source": ["Now, choose and execute an appropriate statistical test. Make sure you describe why you chose the test, the null and alternative hypotheses, and what the result of the test means."]}, {"cell_type": "code", "execution_count": null, "metadata": {}, "outputs": [], "source": ["# Your code here (create additional cells as needed)"]}, {"cell_type": "markdown", "metadata": {}, "source": ["## 4. Describe the Relationship between Chronic Sickness and Nicotine Use\n", "\n", "Once again, this will require some preparation before we can run the statistical test. Create a new column `NICOTINE_USE` with 1 representing someone who uses or has used nicotine in some form, and 0 representing someone who hasn't.\n", "\n", "We define nicotine use as:\n", "\n", "* Answered `Yes` to the `SMOKE100` question (*Have you smoked at least 100 cigarettes in your entire life?*, page 43), OR\n", "* Answered `Every day` or `Some days` to the `USENOW3` question (*Do you currently use chewing tobacco, snuff, or snus every day, some days, or not at all?*, page 46), OR\n", "* Answered `Yes` to the `ECIGARET` question (*Have you ever used an e-cigarette or other electronic vaping product, even just one time, in your entire life?*, page 46)\n", "\n", "If a record matches one or more of the above criteria, `NICOTINE_USE` should be 1. Otherwise, `NICOTINE_USE` should be 0. Go ahead and keep all of the \"Don't know\" or \"Refused\" answers as 0."]}, {"cell_type": "code", "execution_count": null, "metadata": {}, "outputs": [], "source": ["# Your code here\n", "\n", "# Look at the distribution of values\n", "df[\"NICOTINE_USE\"].value_counts(normalize=True)"]}, {"cell_type": "markdown", "metadata": {}, "source": ["This time, let's treat health status as a categorical variable. We'll say that a \"chronically sick\" person is a person who reports that their physical health was not good for 15 or more out of the past 30 days. (This is a simplification but it will work for this analysis.)\n", "\n", "In the cell below, create a new column of `df` called `CHRONIC`, which is 0 for records where `PHYSHLTH` is less than 15, and 1 for records where `PHYSHLTH` is 15 or more."]}, {"cell_type": "code", "execution_count": null, "metadata": {}, "outputs": [], "source": ["# Your code here\n", "\n", "# View the distribution of the newly-created column\n", "df[\"CHRONIC\"].value_counts()"]}, {"cell_type": "markdown", "metadata": {}, "source": ["Now we can view the crosstabs for these two categorical variables, as well as display their distributions:"]}, {"cell_type": "code", "execution_count": null, "metadata": {}, "outputs": [], "source": ["# Run this cell without changes\n", "contingency_table = pd.crosstab(index=df[\"CHRONIC\"], columns=df[\"NICOTINE_USE\"])\n", "contingency_table"]}, {"cell_type": "code", "execution_count": null, "metadata": {}, "outputs": [], "source": ["# Run this cell without changes\n", "\n", "no_nicotine_use = df.loc[df[\"NICOTINE_USE\"] == 0, \"CHRONIC\"]\n", "nicotine_use = df.loc[df[\"NICOTINE_USE\"] == 1, \"CHRONIC\"]\n", "\n", "fig, ax = plt.subplots()\n", "\n", "ax.hist(\n", "    x=[no_nicotine_use, nicotine_use],\n", "    label=[\"No Nicotine Use\", \"Nicotine Use\"],\n", "    bins=[0,1,2],\n", "    align=\"left\"\n", ")\n", "\n", "ax.set_ylabel(\"Count\")\n", "ax.set_xticks([0,1])\n", "ax.set_xticklabels([\"Not Chronically Sick\", \"Chronically Sick\"])\n", "ax.set_title(\"Distribution of Chronic Sickness by Nicotine Use\")\n", "\n", "ax.legend();"]}, {"cell_type": "markdown", "metadata": {}, "source": ["Once again, it appears that there is a difference in health outcomes between these categories. In the cell below, select an appropriate statistical test, describe the null and alternative hypotheses, execute the test, and interpret the result."]}, {"cell_type": "code", "execution_count": null, "metadata": {}, "outputs": [], "source": ["# Your code here (create additional cells as needed)"]}, {"cell_type": "markdown", "metadata": {}, "source": ["## 5. Choose Your Own Question\n", "\n", "Now that you have investigated physical health and chronic sickness and their relationships with state, home ownership, and nicotine use, you will conduct a similar investigation with variables of your choosing.\n", "\n", "Select an independent variable based on looking at the information in the data dictionary, and perform any additional transformations needed to use it in an analysis. Then set up, execute, and interpret a statistical test that addresses the relationship between that independent variable and `PHYSHLTH`.\n", "\n", "(There is no solution branch for this question, and feel free to move on if you have already spent more than 1.5 hours on this lab.)"]}, {"cell_type": "code", "execution_count": null, "metadata": {}, "outputs": [], "source": ["# Your code here (create additional cells as needed)"]}, {"cell_type": "markdown", "metadata": {}, "source": ["## Conclusion\n", "\n", "Congratulations, another cumulative lab down! In this lab you practiced reading a data dictionary, performing various data transformations with pandas, and executing statistical tests to address business questions."]}], "metadata": {"kernelspec": {"display_name": "Python (learn-env)", "language": "python", "name": "learn-env"}, "language_info": {"codemirror_mode": {"name": "ipython", "version": 3}, "file_extension": ".py", "mimetype": "text/x-python", "name": "python", "nbconvert_exporter": "python", "pygments_lexer": "ipython3", "version": "3.8.5"}}, "nbformat": 4, "nbformat_minor": 4}
=======
{
 "cells": [
  {
   "cell_type": "markdown",
   "metadata": {},
   "source": [
    "# Hypothesis Testing - Cumulative Lab\n",
    "\n",
    "## Introduction\n",
    "\n",
    "In this cumulative lab, you will use pandas to clean up a dataset and perform some EDA, then perform statistical tests and interpret their results in order to answer some business questions.\n",
    "\n",
    "## Objectives\n",
    "\n",
    "You will be able to:\n",
    "\n",
    "* Practice using a data dictionary\n",
    "* Practice using pandas to prepare data for statistical analysis\n",
    "* Practice identifying an appropriate statistical test for a given question\n",
    "* Practice defining the null and alternative hypotheses\n",
    "* Practice executing statistical tests and interpreting their results"
   ]
  },
  {
   "cell_type": "markdown",
   "metadata": {},
   "source": [
    "## Your Task: Analyzing Health Trends\n",
    "\n",
    "![tissues and tea mug](images/sick_day.jpg)\n",
    "\n",
    "Photo by <a href=\"https://unsplash.com/@kellysikkema?utm_source=unsplash&utm_medium=referral&utm_content=creditCopyText\">Kelly Sikkema</a> on <a href=\"/?utm_source=unsplash&utm_medium=referral&utm_content=creditCopyText\">Unsplash</a>"
   ]
  },
  {
   "cell_type": "markdown",
   "metadata": {},
   "source": [
    "### Business Understanding\n",
    "\n",
    "Flatiron Health Insurance (FHI) is a growing private healthcare insurance provider founded on the premise that using data and analytics can improve the health insurance industry by providing better care and offerings to its patients. Every year, the Center for Disease Control (CDC) conducts surveys to understand the latest demographic, health, and fitness trends. You have been tasked with analyzing the recently published results of the 2017-2018 survey and providing your recommendations back to the Chief Analytics Officer and Chief Marketing Officer. You have been assigned the task of taking a first look at the data and beginning to answer several key questions:\n",
    "\t\t\t\t\t\t\t\t\t\t\t \t\t\t\t\t\t\t\t\n",
    "1. How does health status, represented by average number of days with bad physical health in the past month (`PHYSHLTH`), differ by state?\t\t\t\t\t \t\t\t\t\t\t\t\t\n",
    "2. Digging deeper into the data, what are some factors that impact health (demographics, behaviors, etc.)?\t\n",
    "\n",
    "### Data Understanding\n",
    "\n",
    "To get you started, the IT department formatted the data set into a tab delimited text file for only NY, NJ, and CT (FHI’s primary markets) called `case_study.csv`.\n",
    "\n",
    "There is also a PDF data dictionary called `data_dictionary.pdf`, which explains the meanings of the features and codes contained in this dataset.\n",
    "\n",
    "Both files are located in the `data/` directory of this repository.\n",
    "\n",
    "Prior to each statistical test, you will need to perform some data preparation, which could include:\n",
    "\n",
    "* Filtering out rows with irrelevant values\n",
    "* Transforming data from codes into human-readable values\n",
    "* Binning data to transform it from numeric to categorical\n",
    "* Creating new columns based on queries of the values in other columns\n",
    "\n",
    "For steps 2-5, you will need to select and execute an appropriate statistical test. Recall these tests we have learned so far:\n",
    "\n",
    "1. [Chi-squared test](https://docs.scipy.org/doc/scipy/reference/generated/scipy.stats.chi2_contingency.html): used for comparing a categorical feature against a categorical feature, to determine whether they are independent\n",
    "2. [t-test](https://docs.scipy.org/doc/scipy/reference/generated/scipy.stats.ttest_ind.html): used for comparing two categories of a numeric feature, to determine whether their means are the same across categories\n",
    "3. [ANOVA](https://www.statsmodels.org/stable/generated/statsmodels.stats.anova.anova_lm.html#statsmodels.stats.anova.anova_lm): used for comparing more than two categories of a numeric feature, to determine whether their means are the same across categories"
   ]
  },
  {
   "cell_type": "markdown",
   "metadata": {},
   "source": [
    "### Requirements\n",
    "\n",
    "#### 1. Prepare `PHYSHLTH` Data for Analysis\n",
    "\n",
    "Using the data dictionary, ensure that you understand the meaning of the `PHYSHLTH` column. Then clean the data so that only valid records of `PHYSHLTH` remain.\n",
    "\n",
    "#### 2. Describe the Distribution of Health Status by State\n",
    "\n",
    "Does health status (`PHYSHLTH`) differ by state (`STATE_`)? If so, by how much, and is it statistically significant?\n",
    "\n",
    "#### 3. Describe the Relationship between Health Status and Home Ownership Status\n",
    "\n",
    "Does health status (`PHYSHLTH`) differ between home owners and renters (`RENTHOM1`)? If so, by how much, and is it statistically significant?\n",
    "\n",
    "#### 4. Describe the Relationship between Chronic Sickness and Nicotine Use\n",
    "\n",
    "Does chronic sickness (`PHYSHLTH >= 15`) differ based on nicotine use (various columns)? If so, by how much, and is it statistically significant?\n",
    "\n",
    "#### 5. Choose Your Own Question\n",
    "\n",
    "Thinking about the business case, what is another question that might be useful to answer? Perform all analysis steps to answer this question."
   ]
  },
  {
   "cell_type": "markdown",
   "metadata": {},
   "source": [
    "## 1. Prepare `PHYSHLTH` Data for Analysis\n",
    "\n",
    "In the cells below, we include the relevant imports and load the data into a dataframe called `df`:"
   ]
  },
  {
   "cell_type": "code",
   "execution_count": 1,
   "metadata": {},
   "outputs": [],
   "source": [
    "# Run this cell without changes\n",
    "import pandas as pd\n",
    "import matplotlib.pyplot as plt\n",
    "import numpy as np\n",
    "%matplotlib inline"
   ]
  },
  {
   "cell_type": "code",
   "execution_count": 2,
   "metadata": {},
   "outputs": [
    {
     "data": {
      "text/html": [
       "<div>\n",
       "<style scoped>\n",
       "    .dataframe tbody tr th:only-of-type {\n",
       "        vertical-align: middle;\n",
       "    }\n",
       "\n",
       "    .dataframe tbody tr th {\n",
       "        vertical-align: top;\n",
       "    }\n",
       "\n",
       "    .dataframe thead th {\n",
       "        text-align: right;\n",
       "    }\n",
       "</style>\n",
       "<table border=\"1\" class=\"dataframe\">\n",
       "  <thead>\n",
       "    <tr style=\"text-align: right;\">\n",
       "      <th></th>\n",
       "      <th>_STATE</th>\n",
       "      <th>FMONTH</th>\n",
       "      <th>IDATE</th>\n",
       "      <th>IMONTH</th>\n",
       "      <th>IDAY</th>\n",
       "      <th>IYEAR</th>\n",
       "      <th>DISPCODE</th>\n",
       "      <th>SEQNO</th>\n",
       "      <th>_PSU</th>\n",
       "      <th>CTELENM1</th>\n",
       "      <th>...</th>\n",
       "      <th>_PA300R2</th>\n",
       "      <th>_PA30021</th>\n",
       "      <th>_PASTRNG</th>\n",
       "      <th>_PAREC1</th>\n",
       "      <th>_PASTAE1</th>\n",
       "      <th>_RFSEAT2</th>\n",
       "      <th>_RFSEAT3</th>\n",
       "      <th>_FLSHOT6</th>\n",
       "      <th>_PNEUMO2</th>\n",
       "      <th>_AIDTST3</th>\n",
       "    </tr>\n",
       "  </thead>\n",
       "  <tbody>\n",
       "    <tr>\n",
       "      <th>49938</th>\n",
       "      <td>9.0</td>\n",
       "      <td>5.0</td>\n",
       "      <td>5172017</td>\n",
       "      <td>5</td>\n",
       "      <td>17</td>\n",
       "      <td>2017</td>\n",
       "      <td>1200.0</td>\n",
       "      <td>2017000001</td>\n",
       "      <td>2.017000e+09</td>\n",
       "      <td>NaN</td>\n",
       "      <td>...</td>\n",
       "      <td>2.0</td>\n",
       "      <td>2.0</td>\n",
       "      <td>2.0</td>\n",
       "      <td>4.0</td>\n",
       "      <td>2.0</td>\n",
       "      <td>1.0</td>\n",
       "      <td>1.0</td>\n",
       "      <td>NaN</td>\n",
       "      <td>NaN</td>\n",
       "      <td>1.0</td>\n",
       "    </tr>\n",
       "    <tr>\n",
       "      <th>49939</th>\n",
       "      <td>9.0</td>\n",
       "      <td>2.0</td>\n",
       "      <td>2142017</td>\n",
       "      <td>2</td>\n",
       "      <td>14</td>\n",
       "      <td>2017</td>\n",
       "      <td>1200.0</td>\n",
       "      <td>2017000002</td>\n",
       "      <td>2.017000e+09</td>\n",
       "      <td>NaN</td>\n",
       "      <td>...</td>\n",
       "      <td>1.0</td>\n",
       "      <td>1.0</td>\n",
       "      <td>1.0</td>\n",
       "      <td>1.0</td>\n",
       "      <td>1.0</td>\n",
       "      <td>2.0</td>\n",
       "      <td>2.0</td>\n",
       "      <td>NaN</td>\n",
       "      <td>NaN</td>\n",
       "      <td>2.0</td>\n",
       "    </tr>\n",
       "    <tr>\n",
       "      <th>49940</th>\n",
       "      <td>9.0</td>\n",
       "      <td>1.0</td>\n",
       "      <td>1292017</td>\n",
       "      <td>1</td>\n",
       "      <td>29</td>\n",
       "      <td>2017</td>\n",
       "      <td>1200.0</td>\n",
       "      <td>2017000003</td>\n",
       "      <td>2.017000e+09</td>\n",
       "      <td>NaN</td>\n",
       "      <td>...</td>\n",
       "      <td>3.0</td>\n",
       "      <td>2.0</td>\n",
       "      <td>1.0</td>\n",
       "      <td>3.0</td>\n",
       "      <td>2.0</td>\n",
       "      <td>1.0</td>\n",
       "      <td>1.0</td>\n",
       "      <td>NaN</td>\n",
       "      <td>NaN</td>\n",
       "      <td>2.0</td>\n",
       "    </tr>\n",
       "    <tr>\n",
       "      <th>49941</th>\n",
       "      <td>9.0</td>\n",
       "      <td>7.0</td>\n",
       "      <td>9112017</td>\n",
       "      <td>9</td>\n",
       "      <td>11</td>\n",
       "      <td>2017</td>\n",
       "      <td>1200.0</td>\n",
       "      <td>2017000004</td>\n",
       "      <td>2.017000e+09</td>\n",
       "      <td>NaN</td>\n",
       "      <td>...</td>\n",
       "      <td>2.0</td>\n",
       "      <td>2.0</td>\n",
       "      <td>2.0</td>\n",
       "      <td>2.0</td>\n",
       "      <td>2.0</td>\n",
       "      <td>1.0</td>\n",
       "      <td>1.0</td>\n",
       "      <td>NaN</td>\n",
       "      <td>NaN</td>\n",
       "      <td>1.0</td>\n",
       "    </tr>\n",
       "    <tr>\n",
       "      <th>49942</th>\n",
       "      <td>9.0</td>\n",
       "      <td>5.0</td>\n",
       "      <td>7182017</td>\n",
       "      <td>7</td>\n",
       "      <td>18</td>\n",
       "      <td>2017</td>\n",
       "      <td>1200.0</td>\n",
       "      <td>2017000005</td>\n",
       "      <td>2.017000e+09</td>\n",
       "      <td>NaN</td>\n",
       "      <td>...</td>\n",
       "      <td>2.0</td>\n",
       "      <td>2.0</td>\n",
       "      <td>1.0</td>\n",
       "      <td>1.0</td>\n",
       "      <td>1.0</td>\n",
       "      <td>1.0</td>\n",
       "      <td>1.0</td>\n",
       "      <td>NaN</td>\n",
       "      <td>NaN</td>\n",
       "      <td>2.0</td>\n",
       "    </tr>\n",
       "    <tr>\n",
       "      <th>...</th>\n",
       "      <td>...</td>\n",
       "      <td>...</td>\n",
       "      <td>...</td>\n",
       "      <td>...</td>\n",
       "      <td>...</td>\n",
       "      <td>...</td>\n",
       "      <td>...</td>\n",
       "      <td>...</td>\n",
       "      <td>...</td>\n",
       "      <td>...</td>\n",
       "      <td>...</td>\n",
       "      <td>...</td>\n",
       "      <td>...</td>\n",
       "      <td>...</td>\n",
       "      <td>...</td>\n",
       "      <td>...</td>\n",
       "      <td>...</td>\n",
       "      <td>...</td>\n",
       "      <td>...</td>\n",
       "      <td>...</td>\n",
       "      <td>...</td>\n",
       "    </tr>\n",
       "    <tr>\n",
       "      <th>303774</th>\n",
       "      <td>36.0</td>\n",
       "      <td>5.0</td>\n",
       "      <td>5152017</td>\n",
       "      <td>5</td>\n",
       "      <td>15</td>\n",
       "      <td>2017</td>\n",
       "      <td>1200.0</td>\n",
       "      <td>2017012245</td>\n",
       "      <td>2.017012e+09</td>\n",
       "      <td>NaN</td>\n",
       "      <td>...</td>\n",
       "      <td>3.0</td>\n",
       "      <td>2.0</td>\n",
       "      <td>2.0</td>\n",
       "      <td>4.0</td>\n",
       "      <td>2.0</td>\n",
       "      <td>1.0</td>\n",
       "      <td>1.0</td>\n",
       "      <td>NaN</td>\n",
       "      <td>NaN</td>\n",
       "      <td>1.0</td>\n",
       "    </tr>\n",
       "    <tr>\n",
       "      <th>303775</th>\n",
       "      <td>36.0</td>\n",
       "      <td>6.0</td>\n",
       "      <td>6252017</td>\n",
       "      <td>6</td>\n",
       "      <td>25</td>\n",
       "      <td>2017</td>\n",
       "      <td>1200.0</td>\n",
       "      <td>2017012246</td>\n",
       "      <td>2.017012e+09</td>\n",
       "      <td>NaN</td>\n",
       "      <td>...</td>\n",
       "      <td>2.0</td>\n",
       "      <td>2.0</td>\n",
       "      <td>2.0</td>\n",
       "      <td>4.0</td>\n",
       "      <td>2.0</td>\n",
       "      <td>1.0</td>\n",
       "      <td>1.0</td>\n",
       "      <td>NaN</td>\n",
       "      <td>NaN</td>\n",
       "      <td>1.0</td>\n",
       "    </tr>\n",
       "    <tr>\n",
       "      <th>303776</th>\n",
       "      <td>36.0</td>\n",
       "      <td>7.0</td>\n",
       "      <td>7212017</td>\n",
       "      <td>7</td>\n",
       "      <td>21</td>\n",
       "      <td>2017</td>\n",
       "      <td>1200.0</td>\n",
       "      <td>2017012247</td>\n",
       "      <td>2.017012e+09</td>\n",
       "      <td>NaN</td>\n",
       "      <td>...</td>\n",
       "      <td>2.0</td>\n",
       "      <td>2.0</td>\n",
       "      <td>2.0</td>\n",
       "      <td>4.0</td>\n",
       "      <td>2.0</td>\n",
       "      <td>1.0</td>\n",
       "      <td>1.0</td>\n",
       "      <td>NaN</td>\n",
       "      <td>NaN</td>\n",
       "      <td>1.0</td>\n",
       "    </tr>\n",
       "    <tr>\n",
       "      <th>303777</th>\n",
       "      <td>36.0</td>\n",
       "      <td>7.0</td>\n",
       "      <td>7202017</td>\n",
       "      <td>7</td>\n",
       "      <td>20</td>\n",
       "      <td>2017</td>\n",
       "      <td>1200.0</td>\n",
       "      <td>2017012248</td>\n",
       "      <td>2.017012e+09</td>\n",
       "      <td>NaN</td>\n",
       "      <td>...</td>\n",
       "      <td>9.0</td>\n",
       "      <td>9.0</td>\n",
       "      <td>9.0</td>\n",
       "      <td>9.0</td>\n",
       "      <td>9.0</td>\n",
       "      <td>9.0</td>\n",
       "      <td>9.0</td>\n",
       "      <td>9.0</td>\n",
       "      <td>9.0</td>\n",
       "      <td>9.0</td>\n",
       "    </tr>\n",
       "    <tr>\n",
       "      <th>303778</th>\n",
       "      <td>36.0</td>\n",
       "      <td>7.0</td>\n",
       "      <td>7252017</td>\n",
       "      <td>7</td>\n",
       "      <td>25</td>\n",
       "      <td>2017</td>\n",
       "      <td>1200.0</td>\n",
       "      <td>2017012249</td>\n",
       "      <td>2.017012e+09</td>\n",
       "      <td>NaN</td>\n",
       "      <td>...</td>\n",
       "      <td>3.0</td>\n",
       "      <td>2.0</td>\n",
       "      <td>2.0</td>\n",
       "      <td>4.0</td>\n",
       "      <td>2.0</td>\n",
       "      <td>1.0</td>\n",
       "      <td>1.0</td>\n",
       "      <td>NaN</td>\n",
       "      <td>NaN</td>\n",
       "      <td>1.0</td>\n",
       "    </tr>\n",
       "  </tbody>\n",
       "</table>\n",
       "<p>34545 rows × 358 columns</p>\n",
       "</div>"
      ],
      "text/plain": [
       "        _STATE  FMONTH    IDATE  IMONTH  IDAY  IYEAR  DISPCODE       SEQNO   \n",
       "49938      9.0     5.0  5172017       5    17   2017    1200.0  2017000001  \\\n",
       "49939      9.0     2.0  2142017       2    14   2017    1200.0  2017000002   \n",
       "49940      9.0     1.0  1292017       1    29   2017    1200.0  2017000003   \n",
       "49941      9.0     7.0  9112017       9    11   2017    1200.0  2017000004   \n",
       "49942      9.0     5.0  7182017       7    18   2017    1200.0  2017000005   \n",
       "...        ...     ...      ...     ...   ...    ...       ...         ...   \n",
       "303774    36.0     5.0  5152017       5    15   2017    1200.0  2017012245   \n",
       "303775    36.0     6.0  6252017       6    25   2017    1200.0  2017012246   \n",
       "303776    36.0     7.0  7212017       7    21   2017    1200.0  2017012247   \n",
       "303777    36.0     7.0  7202017       7    20   2017    1200.0  2017012248   \n",
       "303778    36.0     7.0  7252017       7    25   2017    1200.0  2017012249   \n",
       "\n",
       "                _PSU  CTELENM1  ...  _PA300R2  _PA30021  _PASTRNG  _PAREC1   \n",
       "49938   2.017000e+09       NaN  ...       2.0       2.0       2.0      4.0  \\\n",
       "49939   2.017000e+09       NaN  ...       1.0       1.0       1.0      1.0   \n",
       "49940   2.017000e+09       NaN  ...       3.0       2.0       1.0      3.0   \n",
       "49941   2.017000e+09       NaN  ...       2.0       2.0       2.0      2.0   \n",
       "49942   2.017000e+09       NaN  ...       2.0       2.0       1.0      1.0   \n",
       "...              ...       ...  ...       ...       ...       ...      ...   \n",
       "303774  2.017012e+09       NaN  ...       3.0       2.0       2.0      4.0   \n",
       "303775  2.017012e+09       NaN  ...       2.0       2.0       2.0      4.0   \n",
       "303776  2.017012e+09       NaN  ...       2.0       2.0       2.0      4.0   \n",
       "303777  2.017012e+09       NaN  ...       9.0       9.0       9.0      9.0   \n",
       "303778  2.017012e+09       NaN  ...       3.0       2.0       2.0      4.0   \n",
       "\n",
       "        _PASTAE1  _RFSEAT2  _RFSEAT3  _FLSHOT6  _PNEUMO2  _AIDTST3  \n",
       "49938        2.0       1.0       1.0       NaN       NaN       1.0  \n",
       "49939        1.0       2.0       2.0       NaN       NaN       2.0  \n",
       "49940        2.0       1.0       1.0       NaN       NaN       2.0  \n",
       "49941        2.0       1.0       1.0       NaN       NaN       1.0  \n",
       "49942        1.0       1.0       1.0       NaN       NaN       2.0  \n",
       "...          ...       ...       ...       ...       ...       ...  \n",
       "303774       2.0       1.0       1.0       NaN       NaN       1.0  \n",
       "303775       2.0       1.0       1.0       NaN       NaN       1.0  \n",
       "303776       2.0       1.0       1.0       NaN       NaN       1.0  \n",
       "303777       9.0       9.0       9.0       9.0       9.0       9.0  \n",
       "303778       2.0       1.0       1.0       NaN       NaN       1.0  \n",
       "\n",
       "[34545 rows x 358 columns]"
      ]
     },
     "execution_count": 2,
     "metadata": {},
     "output_type": "execute_result"
    }
   ],
   "source": [
    "# Run this cell without changes\n",
    "df = pd.read_csv(\"data/case_study.csv\", index_col=0, low_memory=False)\n",
    "df"
   ]
  },
  {
   "cell_type": "markdown",
   "metadata": {},
   "source": [
    "Our main column of interest is called `PHYSHLTH`. We display summary statistics and plot a distribution below:"
   ]
  },
  {
   "cell_type": "code",
   "execution_count": 3,
   "metadata": {},
   "outputs": [
    {
     "data": {
      "text/plain": [
       "count    34545.000000\n",
       "mean        60.213403\n",
       "std         37.504566\n",
       "min          1.000000\n",
       "25%         15.000000\n",
       "50%         88.000000\n",
       "75%         88.000000\n",
       "max         99.000000\n",
       "Name: PHYSHLTH, dtype: float64"
      ]
     },
     "execution_count": 3,
     "metadata": {},
     "output_type": "execute_result"
    }
   ],
   "source": [
    "# Run this cell without changes\n",
    "df['PHYSHLTH'].describe()"
   ]
  },
  {
   "cell_type": "code",
   "execution_count": 4,
   "metadata": {},
   "outputs": [
    {
     "data": {
      "image/png": "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\n",
      "text/plain": [
       "<Figure size 640x480 with 1 Axes>"
      ]
     },
     "metadata": {},
     "output_type": "display_data"
    }
   ],
   "source": [
    "# Run this cell without changes\n",
    "fig, ax = plt.subplots()\n",
    "ax.hist(df[\"PHYSHLTH\"], bins=\"auto\")\n",
    "ax.set_xlabel(\"PHYSHLTH\")\n",
    "ax.set_ylabel(\"Count\")\n",
    "ax.set_title(\"Distribution of PHYSHLTH in Raw Data\");"
   ]
  },
  {
   "cell_type": "markdown",
   "metadata": {},
   "source": [
    "This feature is supposed to represent the number of days with bad physical health out of the past 30 days. Do you see anything wrong with what is displayed above? Explain."
   ]
  },
  {
   "cell_type": "code",
   "execution_count": 5,
   "metadata": {},
   "outputs": [
    {
     "data": {
      "text/plain": [
       "\"\\nThe data is not regular, yes there are differences in the data, but that doesn't mean that there can be days \\nwhen there is no bad health at all and days when there number of bad physical health is all too high.\\n\""
      ]
     },
     "execution_count": 5,
     "metadata": {},
     "output_type": "execute_result"
    }
   ],
   "source": [
    "# Replace None with appropriate text\n",
    "\"\"\"\n",
    "The data is not regular, yes there are differences in the data, but that doesn't mean that there can be days \n",
    "when there is no bad health at all and days when there number of bad physical health is all too high.\n",
    "\"\"\""
   ]
  },
  {
   "cell_type": "markdown",
   "metadata": {},
   "source": [
    "Look in the data dictionary, page 17, to understand what is happening with these values. Then edit the cell below so:\n",
    "\n",
    "* The records where the `PHYSHLTH` value label is `None` are converted to 0\n",
    "* The records where the `PHYSHLTH` value label is `Number of days` are kept as-is\n",
    "* All other records are dropped (i.e. records with `Don't know/Not sure`, `Refused`, and `Not asked or Missing` value labels for `PHYSHLTH` are dropped)"
   ]
  },
  {
   "cell_type": "code",
   "execution_count": 6,
   "metadata": {},
   "outputs": [
    {
     "data": {
      "text/plain": [
       "49938     88.0\n",
       "49939     88.0\n",
       "49940      2.0\n",
       "49941     88.0\n",
       "49942     88.0\n",
       "          ... \n",
       "303774    88.0\n",
       "303775    88.0\n",
       "303776     6.0\n",
       "303777    88.0\n",
       "303778    88.0\n",
       "Name: PHYSHLTH, Length: 34545, dtype: float64"
      ]
     },
     "execution_count": 6,
     "metadata": {},
     "output_type": "execute_result"
    }
   ],
   "source": [
    "df[\"PHYSHLTH\"]"
   ]
  },
  {
   "cell_type": "code",
   "execution_count": 7,
   "metadata": {},
   "outputs": [
    {
     "data": {
      "text/html": [
       "<div>\n",
       "<style scoped>\n",
       "    .dataframe tbody tr th:only-of-type {\n",
       "        vertical-align: middle;\n",
       "    }\n",
       "\n",
       "    .dataframe tbody tr th {\n",
       "        vertical-align: top;\n",
       "    }\n",
       "\n",
       "    .dataframe thead th {\n",
       "        text-align: right;\n",
       "    }\n",
       "</style>\n",
       "<table border=\"1\" class=\"dataframe\">\n",
       "  <thead>\n",
       "    <tr style=\"text-align: right;\">\n",
       "      <th></th>\n",
       "      <th>_STATE</th>\n",
       "      <th>FMONTH</th>\n",
       "      <th>IDATE</th>\n",
       "      <th>IMONTH</th>\n",
       "      <th>IDAY</th>\n",
       "      <th>IYEAR</th>\n",
       "      <th>DISPCODE</th>\n",
       "      <th>SEQNO</th>\n",
       "      <th>_PSU</th>\n",
       "      <th>CTELENM1</th>\n",
       "      <th>...</th>\n",
       "      <th>_PA300R2</th>\n",
       "      <th>_PA30021</th>\n",
       "      <th>_PASTRNG</th>\n",
       "      <th>_PAREC1</th>\n",
       "      <th>_PASTAE1</th>\n",
       "      <th>_RFSEAT2</th>\n",
       "      <th>_RFSEAT3</th>\n",
       "      <th>_FLSHOT6</th>\n",
       "      <th>_PNEUMO2</th>\n",
       "      <th>_AIDTST3</th>\n",
       "    </tr>\n",
       "  </thead>\n",
       "  <tbody>\n",
       "    <tr>\n",
       "      <th>49938</th>\n",
       "      <td>9.0</td>\n",
       "      <td>5.0</td>\n",
       "      <td>5172017</td>\n",
       "      <td>5</td>\n",
       "      <td>17</td>\n",
       "      <td>2017</td>\n",
       "      <td>1200.0</td>\n",
       "      <td>2017000001</td>\n",
       "      <td>2.017000e+09</td>\n",
       "      <td>NaN</td>\n",
       "      <td>...</td>\n",
       "      <td>2.0</td>\n",
       "      <td>2.0</td>\n",
       "      <td>2.0</td>\n",
       "      <td>4.0</td>\n",
       "      <td>2.0</td>\n",
       "      <td>1.0</td>\n",
       "      <td>1.0</td>\n",
       "      <td>NaN</td>\n",
       "      <td>NaN</td>\n",
       "      <td>1.0</td>\n",
       "    </tr>\n",
       "    <tr>\n",
       "      <th>49939</th>\n",
       "      <td>9.0</td>\n",
       "      <td>2.0</td>\n",
       "      <td>2142017</td>\n",
       "      <td>2</td>\n",
       "      <td>14</td>\n",
       "      <td>2017</td>\n",
       "      <td>1200.0</td>\n",
       "      <td>2017000002</td>\n",
       "      <td>2.017000e+09</td>\n",
       "      <td>NaN</td>\n",
       "      <td>...</td>\n",
       "      <td>1.0</td>\n",
       "      <td>1.0</td>\n",
       "      <td>1.0</td>\n",
       "      <td>1.0</td>\n",
       "      <td>1.0</td>\n",
       "      <td>2.0</td>\n",
       "      <td>2.0</td>\n",
       "      <td>NaN</td>\n",
       "      <td>NaN</td>\n",
       "      <td>2.0</td>\n",
       "    </tr>\n",
       "    <tr>\n",
       "      <th>49940</th>\n",
       "      <td>9.0</td>\n",
       "      <td>1.0</td>\n",
       "      <td>1292017</td>\n",
       "      <td>1</td>\n",
       "      <td>29</td>\n",
       "      <td>2017</td>\n",
       "      <td>1200.0</td>\n",
       "      <td>2017000003</td>\n",
       "      <td>2.017000e+09</td>\n",
       "      <td>NaN</td>\n",
       "      <td>...</td>\n",
       "      <td>3.0</td>\n",
       "      <td>2.0</td>\n",
       "      <td>1.0</td>\n",
       "      <td>3.0</td>\n",
       "      <td>2.0</td>\n",
       "      <td>1.0</td>\n",
       "      <td>1.0</td>\n",
       "      <td>NaN</td>\n",
       "      <td>NaN</td>\n",
       "      <td>2.0</td>\n",
       "    </tr>\n",
       "    <tr>\n",
       "      <th>49941</th>\n",
       "      <td>9.0</td>\n",
       "      <td>7.0</td>\n",
       "      <td>9112017</td>\n",
       "      <td>9</td>\n",
       "      <td>11</td>\n",
       "      <td>2017</td>\n",
       "      <td>1200.0</td>\n",
       "      <td>2017000004</td>\n",
       "      <td>2.017000e+09</td>\n",
       "      <td>NaN</td>\n",
       "      <td>...</td>\n",
       "      <td>2.0</td>\n",
       "      <td>2.0</td>\n",
       "      <td>2.0</td>\n",
       "      <td>2.0</td>\n",
       "      <td>2.0</td>\n",
       "      <td>1.0</td>\n",
       "      <td>1.0</td>\n",
       "      <td>NaN</td>\n",
       "      <td>NaN</td>\n",
       "      <td>1.0</td>\n",
       "    </tr>\n",
       "    <tr>\n",
       "      <th>49942</th>\n",
       "      <td>9.0</td>\n",
       "      <td>5.0</td>\n",
       "      <td>7182017</td>\n",
       "      <td>7</td>\n",
       "      <td>18</td>\n",
       "      <td>2017</td>\n",
       "      <td>1200.0</td>\n",
       "      <td>2017000005</td>\n",
       "      <td>2.017000e+09</td>\n",
       "      <td>NaN</td>\n",
       "      <td>...</td>\n",
       "      <td>2.0</td>\n",
       "      <td>2.0</td>\n",
       "      <td>1.0</td>\n",
       "      <td>1.0</td>\n",
       "      <td>1.0</td>\n",
       "      <td>1.0</td>\n",
       "      <td>1.0</td>\n",
       "      <td>NaN</td>\n",
       "      <td>NaN</td>\n",
       "      <td>2.0</td>\n",
       "    </tr>\n",
       "  </tbody>\n",
       "</table>\n",
       "<p>5 rows × 358 columns</p>\n",
       "</div>"
      ],
      "text/plain": [
       "       _STATE  FMONTH    IDATE  IMONTH  IDAY  IYEAR  DISPCODE       SEQNO   \n",
       "49938     9.0     5.0  5172017       5    17   2017    1200.0  2017000001  \\\n",
       "49939     9.0     2.0  2142017       2    14   2017    1200.0  2017000002   \n",
       "49940     9.0     1.0  1292017       1    29   2017    1200.0  2017000003   \n",
       "49941     9.0     7.0  9112017       9    11   2017    1200.0  2017000004   \n",
       "49942     9.0     5.0  7182017       7    18   2017    1200.0  2017000005   \n",
       "\n",
       "               _PSU  CTELENM1  ...  _PA300R2  _PA30021  _PASTRNG  _PAREC1   \n",
       "49938  2.017000e+09       NaN  ...       2.0       2.0       2.0      4.0  \\\n",
       "49939  2.017000e+09       NaN  ...       1.0       1.0       1.0      1.0   \n",
       "49940  2.017000e+09       NaN  ...       3.0       2.0       1.0      3.0   \n",
       "49941  2.017000e+09       NaN  ...       2.0       2.0       2.0      2.0   \n",
       "49942  2.017000e+09       NaN  ...       2.0       2.0       1.0      1.0   \n",
       "\n",
       "       _PASTAE1  _RFSEAT2  _RFSEAT3  _FLSHOT6  _PNEUMO2  _AIDTST3  \n",
       "49938       2.0       1.0       1.0       NaN       NaN       1.0  \n",
       "49939       1.0       2.0       2.0       NaN       NaN       2.0  \n",
       "49940       2.0       1.0       1.0       NaN       NaN       2.0  \n",
       "49941       2.0       1.0       1.0       NaN       NaN       1.0  \n",
       "49942       1.0       1.0       1.0       NaN       NaN       2.0  \n",
       "\n",
       "[5 rows x 358 columns]"
      ]
     },
     "execution_count": 7,
     "metadata": {},
     "output_type": "execute_result"
    }
   ],
   "source": [
    "# Your code here\n",
    "df.loc[df[\"PHYSHLTH\"]==88, \"PHYSHLTH\"] = 0\n",
    "df = df[df[\"PHYSHLTH\"] <= 30].copy()\n",
    "df.head()"
   ]
  },
  {
   "cell_type": "markdown",
   "metadata": {},
   "source": [
    "Run the code below to ensure you have the correct, cleaned dataframe:"
   ]
  },
  {
   "cell_type": "code",
   "execution_count": 8,
   "metadata": {},
   "outputs": [],
   "source": [
    "# Run this cell without changes\n",
    "\n",
    "# We should have fewer rows, the same number of columns\n",
    "assert df.shape == (33747, 358)\n",
    "\n",
    "# The maximum value in this column should now be 30\n",
    "assert df[\"PHYSHLTH\"].max() == 30.0"
   ]
  },
  {
   "cell_type": "markdown",
   "metadata": {},
   "source": [
    "Now we can look at the same descriptive information on our cleaned data:"
   ]
  },
  {
   "cell_type": "code",
   "execution_count": 9,
   "metadata": {},
   "outputs": [
    {
     "data": {
      "text/plain": [
       "count    33747.000000\n",
       "mean         4.085341\n",
       "std          8.513293\n",
       "min          0.000000\n",
       "25%          0.000000\n",
       "50%          0.000000\n",
       "75%          3.000000\n",
       "max         30.000000\n",
       "Name: PHYSHLTH, dtype: float64"
      ]
     },
     "execution_count": 9,
     "metadata": {},
     "output_type": "execute_result"
    }
   ],
   "source": [
    "# Run this cell without changes\n",
    "df['PHYSHLTH'].describe()"
   ]
  },
  {
   "cell_type": "code",
   "execution_count": 10,
   "metadata": {},
   "outputs": [
    {
     "data": {
      "image/png": "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\n",
      "text/plain": [
       "<Figure size 640x480 with 1 Axes>"
      ]
     },
     "metadata": {},
     "output_type": "display_data"
    }
   ],
   "source": [
    "# Run this cell without changes\n",
    "fig, ax = plt.subplots()\n",
    "ax.hist(df[\"PHYSHLTH\"])\n",
    "ax.set_xlabel(\"PHYSHLTH\")\n",
    "ax.set_ylabel(\"Count\")\n",
    "ax.set_title(\"Distribution of PHYSHLTH in Cleaned Data\");"
   ]
  },
  {
   "cell_type": "markdown",
   "metadata": {},
   "source": [
    "That looks a lot more reasonable. Let's move on to the next step."
   ]
  },
  {
   "cell_type": "markdown",
   "metadata": {},
   "source": [
    "## 2. Describe the Distribution of Health Status by State\n",
    "\n",
    "As mentioned previously, this dataset only includes data from three states."
   ]
  },
  {
   "cell_type": "code",
   "execution_count": 11,
   "metadata": {},
   "outputs": [
    {
     "data": {
      "text/plain": [
       "_STATE\n",
       "36.0    11876\n",
       "34.0    11458\n",
       "9.0     10413\n",
       "Name: count, dtype: int64"
      ]
     },
     "execution_count": 11,
     "metadata": {},
     "output_type": "execute_result"
    }
   ],
   "source": [
    "# Run this cell without changes\n",
    "df[\"_STATE\"].value_counts()"
   ]
  },
  {
   "cell_type": "markdown",
   "metadata": {},
   "source": [
    "Look in the data dictionary, pages 2-3, to determine which states map onto which codes. Then replace the numbers with strings representing the state names."
   ]
  },
  {
   "cell_type": "code",
   "execution_count": 12,
   "metadata": {},
   "outputs": [],
   "source": [
    "# Your code here\n",
    "df.loc[df[\"_STATE\"] == 9.0, \"_STATE\"] = \"Connecticut\"\n",
    "df.loc[df[\"_STATE\"] == 36.0, \"_STATE\"] = \"New York\"\n",
    "df.loc[df[\"_STATE\"] == 34.0, \"_STATE\"] = \"New Jersey\""
   ]
  },
  {
   "cell_type": "markdown",
   "metadata": {},
   "source": [
    "Below, we check the values:"
   ]
  },
  {
   "cell_type": "code",
   "execution_count": 13,
   "metadata": {},
   "outputs": [],
   "source": [
    "# Run this cell without changes\n",
    "\n",
    "# Shape should be the same\n",
    "assert df.shape == (33747, 358)\n",
    "\n",
    "# Values in state column should be changed\n",
    "assert sorted(list(df[\"_STATE\"].value_counts().index)) == ['Connecticut', 'New Jersey', 'New York']"
   ]
  },
  {
   "cell_type": "code",
   "execution_count": 14,
   "metadata": {},
   "outputs": [
    {
     "data": {
      "image/png": "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\n",
      "text/plain": [
       "<Figure size 1500x600 with 1 Axes>"
      ]
     },
     "metadata": {},
     "output_type": "display_data"
    }
   ],
   "source": [
    "# Run this cell without changes\n",
    "\n",
    "ny = df.loc[df[\"_STATE\"] == \"New York\", \"PHYSHLTH\"]\n",
    "nj = df.loc[df[\"_STATE\"] == \"New Jersey\", \"PHYSHLTH\"]\n",
    "ct = df.loc[df[\"_STATE\"] == \"Connecticut\", \"PHYSHLTH\"]\n",
    "\n",
    "fig, ax = plt.subplots(figsize=(15, 6))\n",
    "\n",
    "ax.hist(\n",
    "    x=[ny, nj, ct],\n",
    "    label=[\"New York\", \"New Jersey\", \"Connecticut\"],\n",
    "    bins=range(32),\n",
    "    align=\"left\"\n",
    ")\n",
    "\n",
    "ax.set_xlabel(\"PHYSHLTH\")\n",
    "ax.set_ylabel(\"Count\")\n",
    "ax.set_title(\"Distribution of PHYSHLTH by State\")\n",
    "\n",
    "ax.legend(title=\"State\");"
   ]
  },
  {
   "cell_type": "markdown",
   "metadata": {},
   "source": [
    "Looking at the plot above, does the distribution seem to differ by state?\n",
    "\n",
    "(Just answer based on a visual inspection; we will do the statistical assessment next.)"
   ]
  },
  {
   "cell_type": "code",
   "execution_count": 15,
   "metadata": {},
   "outputs": [
    {
     "data": {
      "text/plain": [
       "'\\nThe three seem to have almost the same PHYSHLTH count. There is a very minimal difference between them in each\\npoint of the visual\\n'"
      ]
     },
     "execution_count": 15,
     "metadata": {},
     "output_type": "execute_result"
    }
   ],
   "source": [
    "# Replace None with appropriate text\n",
    "\"\"\"\n",
    "The three seem to have almost the same PHYSHLTH count. There is a very minimal difference between them in each\n",
    "point of the visual\n",
    "\"\"\""
   ]
  },
  {
   "cell_type": "markdown",
   "metadata": {},
   "source": [
    "For the statistical test, we will be comparing the *means* of `PHYSHLTH` across states, as a representation of the overall distribution. In other words, when operationalizing the question **does `PHYSHLTH` differ by state?** we want to answer that in terms of the mean `PHYSHLTH`.\n",
    "\n",
    "Let's look at those means:"
   ]
  },
  {
   "cell_type": "code",
   "execution_count": 16,
   "metadata": {},
   "outputs": [
    {
     "data": {
      "text/plain": [
       "_STATE\n",
       "Connecticut    3.688562\n",
       "New Jersey     4.380957\n",
       "New York       4.148030\n",
       "Name: PHYSHLTH, dtype: float64"
      ]
     },
     "execution_count": 16,
     "metadata": {},
     "output_type": "execute_result"
    }
   ],
   "source": [
    "# Run this cell without changes\n",
    "df.groupby(\"_STATE\")[\"PHYSHLTH\"].mean()"
   ]
  },
  {
   "cell_type": "markdown",
   "metadata": {},
   "source": [
    "You likely noted that the overall distribution looked about the same, but these means are different. We have a range from Connecticut with about 3.7 days of bad health to New Jersey with about 4.4 days. But is that difference statistically significant?"
   ]
  },
  {
   "cell_type": "markdown",
   "metadata": {},
   "source": [
    "Identify which of the statistical tests you have learned is the most appropriate for this question, and why. Make sure you mention what kinds of variables are being compared (numeric and categorical), and how many categories there are."
   ]
  },
  {
   "cell_type": "code",
   "execution_count": 17,
   "metadata": {},
   "outputs": [
    {
     "data": {
      "text/plain": [
       "'\\nNone\\n'"
      ]
     },
     "execution_count": 17,
     "metadata": {},
     "output_type": "execute_result"
    }
   ],
   "source": [
    "# Replace None with appropriate text\n",
    "\"\"\"\n",
    "None\n",
    "\"\"\""
   ]
  },
  {
   "cell_type": "markdown",
   "metadata": {},
   "source": [
    "Now, identify the null and alternative hypotheses:"
   ]
  },
  {
   "cell_type": "code",
   "execution_count": 18,
   "metadata": {},
   "outputs": [
    {
     "data": {
      "text/plain": [
       "'\\nNone\\n'"
      ]
     },
     "execution_count": 18,
     "metadata": {},
     "output_type": "execute_result"
    }
   ],
   "source": [
    "# Replace None with appropriate text\n",
    "\"\"\"\n",
    "None\n",
    "\"\"\""
   ]
  },
  {
   "cell_type": "markdown",
   "metadata": {},
   "source": [
    "In the cell below, we set up and execute the statistical test for you. If this doesn't match your previous answer about which test to perform, look at the solution branch to understand why this is the appropriate test."
   ]
  },
  {
   "cell_type": "code",
   "execution_count": 19,
   "metadata": {},
   "outputs": [
    {
     "data": {
      "text/html": [
       "<div>\n",
       "<style scoped>\n",
       "    .dataframe tbody tr th:only-of-type {\n",
       "        vertical-align: middle;\n",
       "    }\n",
       "\n",
       "    .dataframe tbody tr th {\n",
       "        vertical-align: top;\n",
       "    }\n",
       "\n",
       "    .dataframe thead th {\n",
       "        text-align: right;\n",
       "    }\n",
       "</style>\n",
       "<table border=\"1\" class=\"dataframe\">\n",
       "  <thead>\n",
       "    <tr style=\"text-align: right;\">\n",
       "      <th></th>\n",
       "      <th>df</th>\n",
       "      <th>sum_sq</th>\n",
       "      <th>mean_sq</th>\n",
       "      <th>F</th>\n",
       "      <th>PR(&gt;F)</th>\n",
       "    </tr>\n",
       "  </thead>\n",
       "  <tbody>\n",
       "    <tr>\n",
       "      <th>C(_STATE)</th>\n",
       "      <td>2.0</td>\n",
       "      <td>2.687322e+03</td>\n",
       "      <td>1343.660882</td>\n",
       "      <td>18.558645</td>\n",
       "      <td>8.800607e-09</td>\n",
       "    </tr>\n",
       "    <tr>\n",
       "      <th>Residual</th>\n",
       "      <td>33744.0</td>\n",
       "      <td>2.443093e+06</td>\n",
       "      <td>72.400809</td>\n",
       "      <td>NaN</td>\n",
       "      <td>NaN</td>\n",
       "    </tr>\n",
       "  </tbody>\n",
       "</table>\n",
       "</div>"
      ],
      "text/plain": [
       "                df        sum_sq      mean_sq          F        PR(>F)\n",
       "C(_STATE)      2.0  2.687322e+03  1343.660882  18.558645  8.800607e-09\n",
       "Residual   33744.0  2.443093e+06    72.400809        NaN           NaN"
      ]
     },
     "execution_count": 19,
     "metadata": {},
     "output_type": "execute_result"
    }
   ],
   "source": [
    "# Run this cell without changes\n",
    "import statsmodels.api as sm\n",
    "from statsmodels.formula.api import ols\n",
    "\n",
    "formula = 'PHYSHLTH ~ C(_STATE)'\n",
    "lm = ols(formula, df).fit()\n",
    "sm.stats.anova_lm(lm)"
   ]
  },
  {
   "cell_type": "markdown",
   "metadata": {},
   "source": [
    "Interpret the results of this statistical test below. What is the calculated p-value? Were we able to reject the null hypothesis at an alpha of 0.05? What does this say about how `PHYSHLTH` varies by state? What recommendations would you make to the business?"
   ]
  },
  {
   "cell_type": "code",
   "execution_count": 20,
   "metadata": {},
   "outputs": [
    {
     "data": {
      "text/plain": [
       "'\\nNone\\n'"
      ]
     },
     "execution_count": 20,
     "metadata": {},
     "output_type": "execute_result"
    }
   ],
   "source": [
    "# Replace None with appropriate text\n",
    "\"\"\"\n",
    "None\n",
    "\"\"\""
   ]
  },
  {
   "cell_type": "markdown",
   "metadata": {},
   "source": [
    "With that section wrapped up, let's move on to the next step."
   ]
  },
  {
   "cell_type": "markdown",
   "metadata": {},
   "source": [
    "## 3. Describe the Relationship between Health Status and Home Ownership Status\n",
    "\n",
    "This time, we want to categorize respondents by demographic information: specifically, we'll look at whether or not they own their home.\n",
    "\n",
    "Once again, this will require some data preparation. The variable of interest is contained in the `RENTHOM1` column. Currently the values look like this:"
   ]
  },
  {
   "cell_type": "code",
   "execution_count": 21,
   "metadata": {},
   "outputs": [
    {
     "data": {
      "text/plain": [
       "RENTHOM1\n",
       "1.0    21690\n",
       "2.0    10244\n",
       "3.0     1526\n",
       "9.0      194\n",
       "7.0       93\n",
       "Name: count, dtype: int64"
      ]
     },
     "execution_count": 21,
     "metadata": {},
     "output_type": "execute_result"
    }
   ],
   "source": [
    "# Run this cell without changes\n",
    "df[\"RENTHOM1\"].value_counts()"
   ]
  },
  {
   "cell_type": "markdown",
   "metadata": {},
   "source": [
    "In the cell below, modify `df` so that we have dropped all records where the `RENTHOM1` value label is neither `Own` nor `Rent`, and we have replaced the numeric codes with `Own` and `Rent` respectively. You can find more information about codes on page 33 of the data dictionary."
   ]
  },
  {
   "cell_type": "code",
   "execution_count": 22,
   "metadata": {},
   "outputs": [],
   "source": [
    "# Your code here\n",
    "df.loc[df[\"RENTHOM1\"] == 1, \"RENTHOM1\"] = \"Own\"\n",
    "df.loc[df[\"RENTHOM1\"] == 2, \"RENTHOM1\"] = \"Rent\"\n",
    "df = df[df[\"RENTHOM1\"].isin([\"Own\", \"Rent\"])]"
   ]
  },
  {
   "cell_type": "code",
   "execution_count": 23,
   "metadata": {},
   "outputs": [
    {
     "data": {
      "text/plain": [
       "RENTHOM1\n",
       "Own     21690\n",
       "Rent    10244\n",
       "Name: count, dtype: int64"
      ]
     },
     "execution_count": 23,
     "metadata": {},
     "output_type": "execute_result"
    }
   ],
   "source": [
    "# Run this cell without changes\n",
    "df[\"RENTHOM1\"].value_counts()"
   ]
  },
  {
   "cell_type": "markdown",
   "metadata": {},
   "source": [
    "Below, we check that this was done correctly:"
   ]
  },
  {
   "cell_type": "code",
   "execution_count": 24,
   "metadata": {},
   "outputs": [],
   "source": [
    "# Run this cell without changes\n",
    "\n",
    "# Number of rows should be smaller again\n",
    "assert df.shape == (31934, 358)\n",
    "\n",
    "# Only two values should be present in this column\n",
    "assert sorted(list(df[\"RENTHOM1\"].value_counts().index)) == ['Own', 'Rent']"
   ]
  },
  {
   "cell_type": "markdown",
   "metadata": {},
   "source": [
    "Now, similar to the previous step, create a plot that shows the distribution of `PHYSHLTH` for those who own vs. rent their homes, including appropriate axis labels and legend. Because there is more of an imbalance of categories this time (more than twice as many owners as renters, compared to nearly-even numbers from New York, New Jersey, and Connecticut), make sure you add the argument `density=True`, so that the y-axis shows the density (proportion) rather than the count."
   ]
  },
  {
   "cell_type": "code",
   "execution_count": 29,
   "metadata": {},
   "outputs": [
    {
     "data": {
      "text/plain": [
       "49938     Rent\n",
       "49939      Own\n",
       "49940     Rent\n",
       "49941      Own\n",
       "49942      Own\n",
       "          ... \n",
       "303773     Own\n",
       "303774     Own\n",
       "303775     Own\n",
       "303776    Rent\n",
       "303778    Rent\n",
       "Name: RENTHOM1, Length: 31934, dtype: object"
      ]
     },
     "execution_count": 29,
     "metadata": {},
     "output_type": "execute_result"
    }
   ],
   "source": [
    "df[\"RENTHOM1\"]"
   ]
  },
  {
   "cell_type": "code",
   "execution_count": 30,
   "metadata": {},
   "outputs": [
    {
     "data": {
      "image/png": "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\n",
      "text/plain": [
       "<Figure size 640x480 with 1 Axes>"
      ]
     },
     "metadata": {},
     "output_type": "display_data"
    }
   ],
   "source": [
    "X = df.loc[df[\"RENTHOM1\"] == \"Own\"]\n",
    "Y = df.loc[df[\"RENTHOM1\"] == \"Rent\"]\n",
    "plt.scatter(X.index, [1] * len(X), label=\"Own\", color=\"b\")\n",
    "plt.scatter(Y.index, [2] * len(Y), label=\"Rent\", color=\"r\")\n",
    "plt.yticks([1, 2], [\"Own\", \"Rent\"])\n",
    "plt.title(\"Plot of people who own homes vs those who rent homes\")\n",
    "plt.xlabel(\"Index\")\n",
    "plt.ylabel(\"Housing Status\")\n",
    "plt.legend(loc=\"upper right\")\n",
    "plt.show()"
   ]
  },
  {
   "cell_type": "code",
   "execution_count": 46,
   "metadata": {},
   "outputs": [
    {
     "data": {
      "image/png": "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\n",
      "text/plain": [
       "<Figure size 640x480 with 1 Axes>"
      ]
     },
     "metadata": {},
     "output_type": "display_data"
    }
   ],
   "source": [
    "#Your code here\n",
    "own_count = len(df[df[\"RENTHOM1\"] == \"Own\"])\n",
    "rent_count = len(df[df[\"RENTHOM1\"] == \"Rent\"])\n",
    "plt.bar([\"Own\", \"Rent\"], [own_count, rent_count], color = [\"b\", \"r\"])\n",
    "plt.title(\"Plot of people who own homes vs those who rent homes\")\n",
    "plt.xlabel(\"Own\")\n",
    "plt.ylabel(\"Rent\")\n",
    "plt.show()"
   ]
  },
  {
   "cell_type": "markdown",
   "metadata": {},
   "source": [
    "Then run this code to find the averages:"
   ]
  },
  {
   "cell_type": "code",
   "execution_count": 47,
   "metadata": {},
   "outputs": [
    {
     "data": {
      "text/plain": [
       "RENTHOM1\n",
       "Own     3.531213\n",
       "Rent    5.197970\n",
       "Name: PHYSHLTH, dtype: float64"
      ]
     },
     "execution_count": 47,
     "metadata": {},
     "output_type": "execute_result"
    }
   ],
   "source": [
    "# Run this cell without changes\n",
    "df.groupby(\"RENTHOM1\")[\"PHYSHLTH\"].mean()"
   ]
  },
  {
   "cell_type": "markdown",
   "metadata": {},
   "source": [
    "Now, interpret the plot and averages. Does it seem like there a difference in the number of unhealthy days between those who rent their homes and those who own their homes? How does this compare to the distributions by state?"
   ]
  },
  {
   "cell_type": "code",
   "execution_count": null,
   "metadata": {},
   "outputs": [],
   "source": [
    "# Replace None with appropriate text\n",
    "\"\"\"\n",
    "None\n",
    "\"\"\""
   ]
  },
  {
   "cell_type": "markdown",
   "metadata": {},
   "source": [
    "Now, choose and execute an appropriate statistical test. Make sure you describe why you chose the test, the null and alternative hypotheses, and what the result of the test means."
   ]
  },
  {
   "cell_type": "code",
   "execution_count": null,
   "metadata": {},
   "outputs": [],
   "source": [
    "# Your code here (create additional cells as needed)"
   ]
  },
  {
   "cell_type": "markdown",
   "metadata": {},
   "source": [
    "## 4. Describe the Relationship between Chronic Sickness and Nicotine Use\n",
    "\n",
    "Once again, this will require some preparation before we can run the statistical test. Create a new column `NICOTINE_USE` with 1 representing someone who uses or has used nicotine in some form, and 0 representing someone who hasn't.\n",
    "\n",
    "We define nicotine use as:\n",
    "\n",
    "* Answered `Yes` to the `SMOKE100` question (*Have you smoked at least 100 cigarettes in your entire life?*, page 43), OR\n",
    "* Answered `Every day` or `Some days` to the `USENOW3` question (*Do you currently use chewing tobacco, snuff, or snus every day, some days, or not at all?*, page 46), OR\n",
    "* Answered `Yes` to the `ECIGARET` question (*Have you ever used an e-cigarette or other electronic vaping product, even just one time, in your entire life?*, page 46)\n",
    "\n",
    "If a record matches one or more of the above criteria, `NICOTINE_USE` should be 1. Otherwise, `NICOTINE_USE` should be 0. Go ahead and keep all of the \"Don't know\" or \"Refused\" answers as 0."
   ]
  },
  {
   "cell_type": "code",
   "execution_count": 54,
   "metadata": {},
   "outputs": [],
   "source": [
    "# Your code here\n",
    "import warnings\n",
    "warnings.filterwarnings(\"ignore\")\n",
    "condition1 = df['SMOKE100'] == 1\n",
    "condition2 = df['USENOW3'].isin(['Every day', 'Some days'])\n",
    "condition3 = df['ECIGARET'] == 1\n",
    "df['NICOTINE_USE'] = np.where(condition1 | condition2 | condition3, 1, 0)"
   ]
  },
  {
   "cell_type": "markdown",
   "metadata": {},
   "source": [
    "This time, let's treat health status as a categorical variable. We'll say that a \"chronically sick\" person is a person who reports that their physical health was not good for 15 or more out of the past 30 days. (This is a simplification but it will work for this analysis.)\n",
    "\n",
    "In the cell below, create a new column of `df` called `CHRONIC`, which is 0 for records where `PHYSHLTH` is less than 15, and 1 for records where `PHYSHLTH` is 15 or more."
   ]
  },
  {
   "cell_type": "code",
   "execution_count": 55,
   "metadata": {},
   "outputs": [
    {
     "data": {
      "text/plain": [
       "CHRONIC\n",
       "0    28246\n",
       "1     3688\n",
       "Name: count, dtype: int64"
      ]
     },
     "execution_count": 55,
     "metadata": {},
     "output_type": "execute_result"
    }
   ],
   "source": [
    "# Your code here\n",
    "df[\"CHRONIC\"] = (df[\"PHYSHLTH\"] >= 15).apply(int)\n",
    "\n",
    "# View the distribution of the newly-created column\n",
    "df[\"CHRONIC\"].value_counts()"
   ]
  },
  {
   "cell_type": "markdown",
   "metadata": {},
   "source": [
    "Now we can view the crosstabs for these two categorical variables, as well as display their distributions:"
   ]
  },
  {
   "cell_type": "code",
   "execution_count": 56,
   "metadata": {},
   "outputs": [
    {
     "data": {
      "text/html": [
       "<div>\n",
       "<style scoped>\n",
       "    .dataframe tbody tr th:only-of-type {\n",
       "        vertical-align: middle;\n",
       "    }\n",
       "\n",
       "    .dataframe tbody tr th {\n",
       "        vertical-align: top;\n",
       "    }\n",
       "\n",
       "    .dataframe thead th {\n",
       "        text-align: right;\n",
       "    }\n",
       "</style>\n",
       "<table border=\"1\" class=\"dataframe\">\n",
       "  <thead>\n",
       "    <tr style=\"text-align: right;\">\n",
       "      <th>NICOTINE_USE</th>\n",
       "      <th>0</th>\n",
       "      <th>1</th>\n",
       "    </tr>\n",
       "    <tr>\n",
       "      <th>CHRONIC</th>\n",
       "      <th></th>\n",
       "      <th></th>\n",
       "    </tr>\n",
       "  </thead>\n",
       "  <tbody>\n",
       "    <tr>\n",
       "      <th>0</th>\n",
       "      <td>16485</td>\n",
       "      <td>11761</td>\n",
       "    </tr>\n",
       "    <tr>\n",
       "      <th>1</th>\n",
       "      <td>1668</td>\n",
       "      <td>2020</td>\n",
       "    </tr>\n",
       "  </tbody>\n",
       "</table>\n",
       "</div>"
      ],
      "text/plain": [
       "NICOTINE_USE      0      1\n",
       "CHRONIC                   \n",
       "0             16485  11761\n",
       "1              1668   2020"
      ]
     },
     "execution_count": 56,
     "metadata": {},
     "output_type": "execute_result"
    }
   ],
   "source": [
    "# Run this cell without changes\n",
    "contingency_table = pd.crosstab(index=df[\"CHRONIC\"], columns=df[\"NICOTINE_USE\"])\n",
    "contingency_table"
   ]
  },
  {
   "cell_type": "code",
   "execution_count": 57,
   "metadata": {},
   "outputs": [
    {
     "data": {
      "image/png": "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\n",
      "text/plain": [
       "<Figure size 640x480 with 1 Axes>"
      ]
     },
     "metadata": {},
     "output_type": "display_data"
    }
   ],
   "source": [
    "# Run this cell without changes\n",
    "\n",
    "no_nicotine_use = df.loc[df[\"NICOTINE_USE\"] == 0, \"CHRONIC\"]\n",
    "nicotine_use = df.loc[df[\"NICOTINE_USE\"] == 1, \"CHRONIC\"]\n",
    "\n",
    "fig, ax = plt.subplots()\n",
    "\n",
    "ax.hist(\n",
    "    x=[no_nicotine_use, nicotine_use],\n",
    "    label=[\"No Nicotine Use\", \"Nicotine Use\"],\n",
    "    bins=[0,1,2],\n",
    "    align=\"left\"\n",
    ")\n",
    "\n",
    "ax.set_ylabel(\"Count\")\n",
    "ax.set_xticks([0,1])\n",
    "ax.set_xticklabels([\"Not Chronically Sick\", \"Chronically Sick\"])\n",
    "ax.set_title(\"Distribution of Chronic Sickness by Nicotine Use\")\n",
    "\n",
    "ax.legend();"
   ]
  },
  {
   "cell_type": "markdown",
   "metadata": {},
   "source": [
    "Once again, it appears that there is a difference in health outcomes between these categories. In the cell below, select an appropriate statistical test, describe the null and alternative hypotheses, execute the test, and interpret the result."
   ]
  },
  {
   "cell_type": "code",
   "execution_count": null,
   "metadata": {},
   "outputs": [],
   "source": [
    "# Your code here (create additional cells as needed)"
   ]
  },
  {
   "cell_type": "markdown",
   "metadata": {},
   "source": [
    "## 5. Choose Your Own Question\n",
    "\n",
    "Now that you have investigated physical health and chronic sickness and their relationships with state, home ownership, and nicotine use, you will conduct a similar investigation with variables of your choosing.\n",
    "\n",
    "Select an independent variable based on looking at the information in the data dictionary, and perform any additional transformations needed to use it in an analysis. Then set up, execute, and interpret a statistical test that addresses the relationship between that independent variable and `PHYSHLTH`.\n",
    "\n",
    "(There is no solution branch for this question, and feel free to move on if you have already spent more than 1.5 hours on this lab.)"
   ]
  },
  {
   "cell_type": "code",
   "execution_count": null,
   "metadata": {},
   "outputs": [],
   "source": [
    "# Your code here (create additional cells as needed)"
   ]
  },
  {
   "cell_type": "markdown",
   "metadata": {},
   "source": [
    "## Conclusion\n",
    "\n",
    "Congratulations, another cumulative lab down! In this lab you practiced reading a data dictionary, performing various data transformations with pandas, and executing statistical tests to address business questions."
   ]
  }
 ],
 "metadata": {
  "kernelspec": {
   "display_name": "Python (learn-env)",
   "language": "python",
   "name": "learn-env"
  },
  "language_info": {
   "codemirror_mode": {
    "name": "ipython",
    "version": 3
   },
   "file_extension": ".py",
   "mimetype": "text/x-python",
   "name": "python",
   "nbconvert_exporter": "python",
   "pygments_lexer": "ipython3",
   "version": "3.10.11"
  }
 },
 "nbformat": 4,
 "nbformat_minor": 4
}
>>>>>>> 424d2dd (All changes)
